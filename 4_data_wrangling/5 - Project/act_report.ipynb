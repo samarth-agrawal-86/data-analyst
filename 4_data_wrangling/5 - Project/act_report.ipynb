{
 "cells": [
  {
   "cell_type": "markdown",
   "metadata": {},
   "source": [
    "# Analysis of Dog Ratings from users tweets\n",
    "---\n",
    "\n",
    "\n",
    "## Analysis Report \n",
    "### By Samarth Agrawal"
   ]
  },
  {
   "cell_type": "markdown",
   "metadata": {},
   "source": [
    "# Project Overview:\n",
    "\n",
    "Goal of the project is to gather data from a variety of sources and in a variety of formats, assess its quality and tidiness, then clean it, analyze it and create visualizations using Python (and its libraries)\n",
    "\n",
    "Our Dataset is the tweet archive of Twitter user @dog_rates, also known as `WeRateDogs`. WeRateDogs is a Twitter account that rates people's dogs with a humorous comment about the dog"
   ]
  },
  {
   "cell_type": "markdown",
   "metadata": {},
   "source": [
    "# Dataset Overview:\n",
    "\n",
    "twitter archive was provided for about 5000 tweets our of which ~2300 contained ratings. Since the provided dataset was very basic twitter api was used to augment the given dataset to include some key information. Further Convolutional Neural Network output was also used that provided the dog breed for dogs in the images.\n",
    "\n",
    "All the individual datasets have gone through the series of data cleaning steps and one final master dataset was created for analysis purpose"
   ]
  },
  {
   "cell_type": "markdown",
   "metadata": {},
   "source": [
    "# Analysis:"
   ]
  },
  {
   "cell_type": "markdown",
   "metadata": {},
   "source": [
    "## 1. Which is the most rated dog tweet?"
   ]
  },
  {
   "cell_type": "markdown",
   "metadata": {},
   "source": [
    "Meet <b> Atticus </b> One of the highest rated dog till date. Rating of <b> 1776 </b> !!! <br>\n",
    "Click on the dog image to check out the original tweet\n",
    "\n",
    "<a href = 'https://twitter.com/dog_rates/status/749981277374128128/photo/1'> <img src = 'img\\best_rated.jpg' width = 200px></a>"
   ]
  },
  {
   "cell_type": "markdown",
   "metadata": {},
   "source": [
    "## 2. Which dog tweet got the most hearts (favorites) ? "
   ]
  },
  {
   "cell_type": "markdown",
   "metadata": {},
   "source": [
    "This one is actually a video of dog swimming in a pool untill he realizes he can actually stand on it. <br>\n",
    "This one has got the maximum number of hearts more than <b> 161k </b> <br>\n",
    "Click on the dog image to check the original tweet\n",
    "\n",
    "<a href = 'https://twitter.com/dog_rates/status/744234799360020481/video/1'> <img src = 'img\\most_fav.jpg' width = '200px' ></a>"
   ]
  },
  {
   "cell_type": "markdown",
   "metadata": {},
   "source": [
    "## 3. What are the most common dog breeds?"
   ]
  },
  {
   "cell_type": "markdown",
   "metadata": {},
   "source": [
    "We can see from the chart below that Golden Retriever is one of the most common dog breed followed by Labrador, Pembroke and Chihuahua\n",
    "\n",
    "<img src = 'img\\dog_breeds.png' >"
   ]
  },
  {
   "cell_type": "markdown",
   "metadata": {},
   "source": [
    "## 4. Let's look at some of the funny predictions from the CNN"
   ]
  },
  {
   "cell_type": "markdown",
   "metadata": {},
   "source": [
    "This one was predicted as Basketball. \n",
    "\n",
    "<img src = 'img/dog_basketball.jpg' width = 300px>"
   ]
  },
  {
   "cell_type": "markdown",
   "metadata": {},
   "source": [
    "In this one here again CNN was able to detect the surrounding and dog breed was predicted as Puzzle. \n",
    "\n",
    "<img src = 'img/dog_puzzle.jpg' width = 300px>"
   ]
  },
  {
   "cell_type": "markdown",
   "metadata": {},
   "source": [
    "This one is epic. CNN thinks the breed of Dog is Seat belt for some reason !! :D \n",
    "\n",
    "<img src = 'img/dog_seatbelt.jpg' width = 300px>"
   ]
  }
 ],
 "metadata": {
  "kernelspec": {
   "display_name": "Python 3",
   "language": "python",
   "name": "python3"
  },
  "language_info": {
   "codemirror_mode": {
    "name": "ipython",
    "version": 3
   },
   "file_extension": ".py",
   "mimetype": "text/x-python",
   "name": "python",
   "nbconvert_exporter": "python",
   "pygments_lexer": "ipython3",
   "version": "3.7.3"
  }
 },
 "nbformat": 4,
 "nbformat_minor": 2
}
